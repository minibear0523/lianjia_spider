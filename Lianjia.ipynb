{
 "cells": [
  {
   "cell_type": "code",
   "execution_count": 2,
   "metadata": {
    "collapsed": true
   },
   "outputs": [],
   "source": [
    "import pandas as pd\n",
    "lianjia_df = pd.read_json('lianjia.json')"
   ]
  },
  {
   "cell_type": "code",
   "execution_count": 3,
   "metadata": {
    "collapsed": true
   },
   "outputs": [],
   "source": [
    "lianjia_df['distribute'] = lianjia_df['distribute'].apply(lambda x:x[:-2])"
   ]
  },
  {
   "cell_type": "code",
   "execution_count": 4,
   "metadata": {
    "collapsed": true
   },
   "outputs": [],
   "source": [
    "lianjia_df['gross_floor_area'] = lianjia_df['gross_floor_area'].apply(lambda x: int(x[:-2]))"
   ]
  },
  {
   "cell_type": "code",
   "execution_count": 5,
   "metadata": {},
   "outputs": [
    {
     "data": {
      "text/plain": [
       "count     3000.000000\n",
       "mean      2668.676667\n",
       "std       1740.906009\n",
       "min        700.000000\n",
       "25%       1800.000000\n",
       "50%       2200.000000\n",
       "75%       3000.000000\n",
       "max      33000.000000\n",
       "Name: rent_per_month, dtype: float64"
      ]
     },
     "execution_count": 5,
     "metadata": {},
     "output_type": "execute_result"
    }
   ],
   "source": [
    "lianjia_df['rent_per_month'].describe()"
   ]
  },
  {
   "cell_type": "code",
   "execution_count": 6,
   "metadata": {},
   "outputs": [
    {
     "data": {
      "text/plain": [
       "Index(['added_at', 'captured_date', 'compound', 'distribute', 'floor',\n",
       "       'gross_floor_area', 'layout', 'link', 'orientation', 'rent_per_month',\n",
       "       'structure', 'subway_distance', 'subway_line', 'subway_station',\n",
       "       'title', 'total_views'],\n",
       "      dtype='object')"
      ]
     },
     "execution_count": 6,
     "metadata": {},
     "output_type": "execute_result"
    }
   ],
   "source": [
    "lianjia_df.columns"
   ]
  },
  {
   "cell_type": "code",
   "execution_count": 7,
   "metadata": {},
   "outputs": [
    {
     "data": {
      "text/plain": [
       "1.0    458\n",
       "3.0    261\n",
       "2.0    237\n",
       "6.0    232\n",
       "Name: subway_line, dtype: int64"
      ]
     },
     "execution_count": 7,
     "metadata": {},
     "output_type": "execute_result"
    }
   ],
   "source": [
    "lianjia_df['subway_line'].value_counts()"
   ]
  },
  {
   "cell_type": "code",
   "execution_count": 8,
   "metadata": {
    "collapsed": true
   },
   "outputs": [],
   "source": [
    "six_line_df = lianjia_df[lianjia_df['subway_line'] == 6]"
   ]
  },
  {
   "cell_type": "code",
   "execution_count": 9,
   "metadata": {
    "scrolled": true
   },
   "outputs": [
    {
     "data": {
      "text/plain": [
       "2500     20\n",
       "1800     19\n",
       "2000     17\n",
       "1600     15\n",
       "2600     10\n",
       "1900     10\n",
       "3000      9\n",
       "2400      9\n",
       "1500      9\n",
       "4000      8\n",
       "1400      7\n",
       "1700      7\n",
       "2100      6\n",
       "2300      6\n",
       "3500      4\n",
       "4500      4\n",
       "2700      4\n",
       "5000      4\n",
       "3200      4\n",
       "1300      4\n",
       "2800      4\n",
       "3800      3\n",
       "4800      3\n",
       "4300      3\n",
       "2900      3\n",
       "3300      3\n",
       "5500      2\n",
       "850       2\n",
       "12000     2\n",
       "4200      2\n",
       "7500      2\n",
       "6000      2\n",
       "1650      2\n",
       "3600      2\n",
       "2200      2\n",
       "1200      2\n",
       "1100      2\n",
       "800       1\n",
       "15000     1\n",
       "1000      1\n",
       "3900      1\n",
       "8500      1\n",
       "3400      1\n",
       "7000      1\n",
       "2650      1\n",
       "4700      1\n",
       "13500     1\n",
       "3700      1\n",
       "9800      1\n",
       "4600      1\n",
       "7800      1\n",
       "6500      1\n",
       "Name: rent_per_month, dtype: int64"
      ]
     },
     "execution_count": 9,
     "metadata": {},
     "output_type": "execute_result"
    }
   ],
   "source": [
    "six_line_df['rent_per_month'].value_counts()"
   ]
  },
  {
   "cell_type": "code",
   "execution_count": 11,
   "metadata": {},
   "outputs": [
    {
     "data": {
      "text/plain": [
       "2室1厅    1310\n",
       "1室1厅     874\n",
       "3室1厅     221\n",
       "3室2厅     204\n",
       "2室2厅     196\n",
       "1室0厅      85\n",
       "4室2厅      39\n",
       "4室1厅      16\n",
       "2室0厅      16\n",
       "5室2厅      15\n",
       "1室2厅      11\n",
       "6室2厅       4\n",
       "3室3厅       2\n",
       "6室3厅       1\n",
       "6室1厅       1\n",
       "5室1厅       1\n",
       "5室3厅       1\n",
       "8室1厅       1\n",
       "2室3厅       1\n",
       "3室0厅       1\n",
       "Name: layout, dtype: int64"
      ]
     },
     "execution_count": 11,
     "metadata": {},
     "output_type": "execute_result"
    }
   ],
   "source": [
    "lianjia_df['layout'].value_counts()"
   ]
  },
  {
   "cell_type": "code",
   "execution_count": 12,
   "metadata": {},
   "outputs": [
    {
     "ename": "AttributeError",
     "evalue": "'DataFrame' object has no attribute 'summary'",
     "output_type": "error",
     "traceback": [
      "\u001b[0;31m---------------------------------------------------------------------------\u001b[0m",
      "\u001b[0;31mAttributeError\u001b[0m                            Traceback (most recent call last)",
      "\u001b[0;32m<ipython-input-12-64d2e9405640>\u001b[0m in \u001b[0;36m<module>\u001b[0;34m()\u001b[0m\n\u001b[0;32m----> 1\u001b[0;31m \u001b[0mlianjia_df\u001b[0m\u001b[0;34m.\u001b[0m\u001b[0msummary\u001b[0m\u001b[0;34m(\u001b[0m\u001b[0;34m)\u001b[0m\u001b[0;34m\u001b[0m\u001b[0m\n\u001b[0m",
      "\u001b[0;32m/usr/local/lib/python3.6/site-packages/pandas/core/generic.py\u001b[0m in \u001b[0;36m__getattr__\u001b[0;34m(self, name)\u001b[0m\n\u001b[1;32m   3079\u001b[0m             \u001b[0;32mif\u001b[0m \u001b[0mname\u001b[0m \u001b[0;32min\u001b[0m \u001b[0mself\u001b[0m\u001b[0;34m.\u001b[0m\u001b[0m_info_axis\u001b[0m\u001b[0;34m:\u001b[0m\u001b[0;34m\u001b[0m\u001b[0m\n\u001b[1;32m   3080\u001b[0m                 \u001b[0;32mreturn\u001b[0m \u001b[0mself\u001b[0m\u001b[0;34m[\u001b[0m\u001b[0mname\u001b[0m\u001b[0;34m]\u001b[0m\u001b[0;34m\u001b[0m\u001b[0m\n\u001b[0;32m-> 3081\u001b[0;31m             \u001b[0;32mreturn\u001b[0m \u001b[0mobject\u001b[0m\u001b[0;34m.\u001b[0m\u001b[0m__getattribute__\u001b[0m\u001b[0;34m(\u001b[0m\u001b[0mself\u001b[0m\u001b[0;34m,\u001b[0m \u001b[0mname\u001b[0m\u001b[0;34m)\u001b[0m\u001b[0;34m\u001b[0m\u001b[0m\n\u001b[0m\u001b[1;32m   3082\u001b[0m \u001b[0;34m\u001b[0m\u001b[0m\n\u001b[1;32m   3083\u001b[0m     \u001b[0;32mdef\u001b[0m \u001b[0m__setattr__\u001b[0m\u001b[0;34m(\u001b[0m\u001b[0mself\u001b[0m\u001b[0;34m,\u001b[0m \u001b[0mname\u001b[0m\u001b[0;34m,\u001b[0m \u001b[0mvalue\u001b[0m\u001b[0;34m)\u001b[0m\u001b[0;34m:\u001b[0m\u001b[0;34m\u001b[0m\u001b[0m\n",
      "\u001b[0;31mAttributeError\u001b[0m: 'DataFrame' object has no attribute 'summary'"
     ]
    }
   ],
   "source": [
    "lianjia_df.summary()"
   ]
  },
  {
   "cell_type": "code",
   "execution_count": null,
   "metadata": {
    "collapsed": true
   },
   "outputs": [],
   "source": []
  }
 ],
 "metadata": {
  "kernelspec": {
   "display_name": "Python 3",
   "language": "python",
   "name": "python3"
  },
  "language_info": {
   "codemirror_mode": {
    "name": "ipython",
    "version": 3
   },
   "file_extension": ".py",
   "mimetype": "text/x-python",
   "name": "python",
   "nbconvert_exporter": "python",
   "pygments_lexer": "ipython3",
   "version": "3.6.3"
  }
 },
 "nbformat": 4,
 "nbformat_minor": 2
}
